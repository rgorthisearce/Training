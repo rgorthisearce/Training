{
  "nbformat": 4,
  "nbformat_minor": 0,
  "metadata": {
    "colab": {
      "name": "Day 1 - Challenge.ipynb",
      "provenance": []
    },
    "kernelspec": {
      "name": "python3",
      "display_name": "Python 3"
    },
    "language_info": {
      "name": "python"
    }
  },
  "cells": [
    {
      "cell_type": "markdown",
      "source": [
        "**Question 1**\n",
        "\n",
        "An array is a data structure that keeps items of the same kind in a single memory block. Each memory position in an array, P, of size Q, has a unique index, I (where 0=i=Q), which may be referred as P[i] or Pi. Reverse an integer array.\n",
        "\n",
        "\n"
      ],
      "metadata": {
        "id": "JuQHvf16pm6S"
      }
    },
    {
      "cell_type": "code",
      "execution_count": 54,
      "metadata": {
        "id": "IqJ_6YCWfdz6"
      },
      "outputs": [],
      "source": [
        "import numpy as np\n",
        "\n",
        "# Reverse Array function that takes array P as input and returns the reverse of array\n",
        "def reverseArray(P):\n",
        "  revP = []\n",
        "  for i in range(len(P)-1, -1, -1):                             # For loop runs from the max index of array to min index of array in reverse\n",
        "    revP.append(P[i])\n",
        "\n",
        "  return np.array(revP)\n"
      ]
    },
    {
      "cell_type": "code",
      "source": [
        "# Driver code\n",
        "\n",
        "print(\"Enter the size of the array: \")\n",
        "q = int(input())\n",
        "print(\"Enter the elements of the array seperated by spaces: \")\n",
        "p = input().split()\n",
        "p = [int(i) for i in p]\n",
        "p = np.array(p)\n",
        "print(\"The given array is: \")\n",
        "print(p)\n",
        "\n",
        "\n",
        "print(\"The reversed array is: \")\n",
        "print (reverseArray(p))"
      ],
      "metadata": {
        "colab": {
          "base_uri": "https://localhost:8080/"
        },
        "id": "_PqdEJN4sHO_",
        "outputId": "9ec3816e-3637-4477-eb9f-f696d7e57d10"
      },
      "execution_count": 55,
      "outputs": [
        {
          "output_type": "stream",
          "name": "stdout",
          "text": [
            "Enter the size of the array: \n",
            "4\n",
            "Enter the elements of the array seperated by spaces: \n",
            "3 5 7 9\n",
            "The given array is: \n",
            "[3 5 7 9]\n",
            "The reversed array is: \n",
            "[9 7 5 3]\n"
          ]
        }
      ]
    },
    {
      "cell_type": "markdown",
      "source": [
        "**Question 2**\n",
        "\n",
        "Create a function to print LinkedLists.\n",
        "\n",
        "The parameter(s) for printLinkedList are as follows:\n",
        "SinglyLinkedList The head of the list is referred to as the node head.\n",
        "Print the value of each node in a new line."
      ],
      "metadata": {
        "id": "V_FXkgAswVci"
      }
    },
    {
      "cell_type": "code",
      "source": [
        "# Node class\n",
        "class Node:\n",
        " \n",
        "    # Function to initialise the node object\n",
        "    def __init__(self, data):\n",
        "        self.data = data  # Assign data\n",
        "        self.next = None  # Initialize next as null\n",
        " \n",
        " \n",
        "# Linked List class contains a Node object\n",
        "class LinkedList:\n",
        " \n",
        "    # Function to initialize head\n",
        "    def __init__(self):\n",
        "        self.head = None\n",
        " \n",
        " \n",
        "    # This function Appends a new node at the end of the Linked List\n",
        "    def append(self, new_data):\n",
        " \n",
        "       \n",
        "        new_node = Node(new_data)\n",
        " \n",
        "        # If the Linked List is empty, then make the\n",
        "        # new node as head\n",
        "        if self.head is None:\n",
        "            self.head = new_node\n",
        "            return\n",
        " \n",
        "        # Else traverse till the last node\n",
        "        last = self.head\n",
        "        while (last.next):\n",
        "            last = last.next\n",
        " \n",
        "        # Change the next of last node\n",
        "        last.next =  new_node\n",
        " \n",
        " \n",
        "    # Function to print the linked list\n",
        "    def printList(self):\n",
        "        temp = self.head\n",
        "        while (temp):\n",
        "            print (temp.data),\n",
        "            temp = temp.next\n",
        " \n",
        " "
      ],
      "metadata": {
        "id": "sdV5Wgn842Jd"
      },
      "execution_count": 52,
      "outputs": []
    },
    {
      "cell_type": "code",
      "source": [
        "# Driver code\n",
        "\n",
        "print (\"Enter the size of the linked list: \")\n",
        "n = int(input())\n",
        "llist = LinkedList()                              # Initialise the LinkedList class\n",
        "for i in range(n):\n",
        "  print(\"Enter the value to be added: \")\n",
        "  x = int(input())          \n",
        "  llist.append(x)                                 # Add values using Append function\n",
        "\n",
        "\n",
        "print (\"The entered linked list is\")\n",
        "llist.printList()                                 # Print the values using printList function"
      ],
      "metadata": {
        "colab": {
          "base_uri": "https://localhost:8080/"
        },
        "id": "prYLWWco5Q9Q",
        "outputId": "262ef246-4958-4780-d32a-a124938370f2"
      },
      "execution_count": 57,
      "outputs": [
        {
          "output_type": "stream",
          "name": "stdout",
          "text": [
            "Enter the size of the linked list: \n",
            "4\n",
            "Enter the value to be added: \n",
            "5\n",
            "Enter the value to be added: \n",
            "8\n",
            "Enter the value to be added: \n",
            "7\n",
            "Enter the value to be added: \n",
            "6\n",
            "The entered linked list is\n",
            "5\n",
            "8\n",
            "7\n",
            "6\n"
          ]
        }
      ]
    }
  ]
}