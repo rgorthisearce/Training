{
  "nbformat": 4,
  "nbformat_minor": 0,
  "metadata": {
    "colab": {
      "name": "Day 1 - Practice.ipynb",
      "provenance": []
    },
    "kernelspec": {
      "name": "python3",
      "display_name": "Python 3"
    },
    "language_info": {
      "name": "python"
    }
  },
  "cells": [
    {
      "cell_type": "markdown",
      "source": [
        "**Arrays in Python**"
      ],
      "metadata": {
        "id": "w3QqT0KnegrF"
      }
    },
    {
      "cell_type": "markdown",
      "source": [
        "NumPy stands for Numerical Python. It is a Python library used for working with an array. In Python, we use the list for purpose of the array but it’s slow to process. NumPy array is a powerful N-dimensional array object and its use in linear algebra, Fourier transform, and random number capabilities. It provides an array object much faster than traditional Python lists"
      ],
      "metadata": {
        "id": "CQguI_0Ph0f_"
      }
    },
    {
      "cell_type": "code",
      "source": [
        "# importing numpy module\n",
        "import numpy as np\n",
        "  \n",
        "# creating list \n",
        "list = [1, 2, 3, 4]\n",
        "  \n",
        "# creating numpy array\n",
        "sample_array = np.array(list)\n",
        "  \n",
        "print(\"List in python : \", list)\n",
        "  \n",
        "print(\"Numpy Array in python :\",\n",
        "      sample_array)"
      ],
      "metadata": {
        "colab": {
          "base_uri": "https://localhost:8080/"
        },
        "id": "TTaBwB4Xh1YZ",
        "outputId": "bf604e72-969b-44a3-8a6a-51969e1a15b2"
      },
      "execution_count": 3,
      "outputs": [
        {
          "output_type": "stream",
          "name": "stdout",
          "text": [
            "List in python :  [1, 2, 3, 4]\n",
            "Numpy Array in python : [1 2 3 4]\n"
          ]
        }
      ]
    },
    {
      "cell_type": "markdown",
      "source": [
        "Multi-Dimensional Array:\n",
        "\n",
        "Data in multidimensional arrays are stored in tabular form."
      ],
      "metadata": {
        "id": "UK81cQnwiEK_"
      }
    },
    {
      "cell_type": "code",
      "source": [
        "# importing numpy module\n",
        "import numpy as np\n",
        "  \n",
        "# creating list \n",
        "list_1 = [1, 2, 3, 4]\n",
        "list_2 = [5, 6, 7, 8]\n",
        "list_3 = [9, 10, 11, 12]\n",
        "  \n",
        "# creating numpy array\n",
        "sample_array = np.array([list_1, \n",
        "                         list_2,\n",
        "                         list_3])\n",
        "  \n",
        "print(\"Numpy multi dimensional array in python\\n\",\n",
        "      sample_array)"
      ],
      "metadata": {
        "colab": {
          "base_uri": "https://localhost:8080/"
        },
        "id": "IFCYnmdsh5Oo",
        "outputId": "c59e8e86-71c6-40a2-f5c4-87ed28b94600"
      },
      "execution_count": 4,
      "outputs": [
        {
          "output_type": "stream",
          "name": "stdout",
          "text": [
            "Numpy multi dimensional array in python\n",
            " [[ 1  2  3  4]\n",
            " [ 5  6  7  8]\n",
            " [ 9 10 11 12]]\n"
          ]
        }
      ]
    },
    {
      "cell_type": "markdown",
      "source": [
        "**Stack and Queues in Python**"
      ],
      "metadata": {
        "id": "bMWFIOjCilyz"
      }
    },
    {
      "cell_type": "markdown",
      "source": [
        "\n",
        "Stack works on the principle of “Last-in, first-out”. Also, the inbuilt functions in Python make the code short and simple. To add an item to the top of the list, i.e., to push an item, we use append() function and to pop out an element we use pop() function. These functions work quiet efficiently and fast in end operations."
      ],
      "metadata": {
        "id": "ccnm37NAitgf"
      }
    },
    {
      "cell_type": "code",
      "source": [
        "# Code to demonstrate Implementing \n",
        "# stack using list\n",
        "stack = [\"Amar\", \"Akbar\", \"Anthony\"]\n",
        "stack.append(\"Ram\")\n",
        "stack.append(\"Iqbal\")\n",
        "print(stack)\n",
        "  \n",
        "# Removes the last item\n",
        "print(stack.pop())\n",
        "  \n",
        "print(stack)\n",
        "  \n",
        "# Removes the last item\n",
        "print(stack.pop())\n",
        "  \n",
        "print(stack)"
      ],
      "metadata": {
        "colab": {
          "base_uri": "https://localhost:8080/"
        },
        "id": "D6PgGW4qiKTV",
        "outputId": "719b4ebd-9a03-4be5-c2d0-4a957cfcdb82"
      },
      "execution_count": 5,
      "outputs": [
        {
          "output_type": "stream",
          "name": "stdout",
          "text": [
            "['Amar', 'Akbar', 'Anthony', 'Ram', 'Iqbal']\n",
            "Iqbal\n",
            "['Amar', 'Akbar', 'Anthony', 'Ram']\n",
            "Ram\n",
            "['Amar', 'Akbar', 'Anthony']\n"
          ]
        }
      ]
    },
    {
      "cell_type": "markdown",
      "source": [
        "Queue works on the principle of “First-in, first-out”. Below is list implementation of queue. We use pop(0) to remove the first item from a list."
      ],
      "metadata": {
        "id": "1nrxRtCkjK7x"
      }
    },
    {
      "cell_type": "code",
      "source": [
        "# Code to demonstrate Implementing \n",
        "# Queue using list\n",
        "queue = [\"Amar\", \"Akbar\", \"Anthony\"]\n",
        "queue.append(\"Ram\")\n",
        "queue.append(\"Iqbal\")\n",
        "print(queue)\n",
        "  \n",
        "# Removes the first item\n",
        "print(queue.pop(0))\n",
        "  \n",
        "print(queue)\n",
        "  \n",
        "# Removes the first item\n",
        "print(queue.pop(0))\n",
        "  \n",
        "print(queue)"
      ],
      "metadata": {
        "colab": {
          "base_uri": "https://localhost:8080/"
        },
        "id": "Ln1fmbL0i5_k",
        "outputId": "2896413a-63af-448c-e9cc-a7e297810547"
      },
      "execution_count": 6,
      "outputs": [
        {
          "output_type": "stream",
          "name": "stdout",
          "text": [
            "['Amar', 'Akbar', 'Anthony', 'Ram', 'Iqbal']\n",
            "Amar\n",
            "['Akbar', 'Anthony', 'Ram', 'Iqbal']\n",
            "Akbar\n",
            "['Anthony', 'Ram', 'Iqbal']\n"
          ]
        }
      ]
    },
    {
      "cell_type": "markdown",
      "source": [
        "**Linked Lists in Python**"
      ],
      "metadata": {
        "id": "7i9RhEcYlqjo"
      }
    },
    {
      "cell_type": "markdown",
      "source": [
        "A linked list is a sequence of data elements, which are connected together via links. Each data element contains a connection to another data element in form of a pointer. Python does not have linked lists in its standard library."
      ],
      "metadata": {
        "id": "FG3qBVLsmKCr"
      }
    },
    {
      "cell_type": "markdown",
      "source": [
        "Creation of Linked list\n",
        "\n",
        "We create a Node object and create another class to use this ode object. We pass the appropriate values through the node object to point the to the next data elements."
      ],
      "metadata": {
        "id": "FT7_k5iVmX9X"
      }
    },
    {
      "cell_type": "code",
      "source": [
        "class Node:\n",
        "   def __init__(self, dataval=None):\n",
        "      self.dataval = dataval\n",
        "      self.nextval = None\n",
        "\n",
        "class SLinkedList:\n",
        "   def __init__(self):\n",
        "      self.headval = None\n",
        "\n",
        "list1 = SLinkedList()\n",
        "list1.headval = Node(\"Mon\")\n",
        "e2 = Node(\"Tue\")\n",
        "e3 = Node(\"Wed\")\n",
        "# Link first Node to second node\n",
        "list1.headval.nextval = e2\n",
        "\n",
        "# Link second Node to third node\n",
        "e2.nextval = e3"
      ],
      "metadata": {
        "id": "4-aqr2qvkHc0"
      },
      "execution_count": 7,
      "outputs": []
    },
    {
      "cell_type": "markdown",
      "source": [
        "Traversing a Linked List\n",
        "\n",
        "Singly linked lists can be traversed in only forward direction starting form the first data element. We simply print the value of the next data element by assigning the pointer of the next node to the current data element."
      ],
      "metadata": {
        "id": "tckHWw74mjKb"
      }
    },
    {
      "cell_type": "code",
      "source": [
        "class Node:\n",
        "   def __init__(self, dataval=None):\n",
        "      self.dataval = dataval\n",
        "      self.nextval = None\n",
        "\n",
        "class SLinkedList:\n",
        "   def __init__(self):\n",
        "      self.headval = None\n",
        "\n",
        "   def listprint(self):\n",
        "      printval = self.headval\n",
        "      while printval is not None:\n",
        "         print (printval.dataval)\n",
        "         printval = printval.nextval\n",
        "\n",
        "list = SLinkedList()\n",
        "list.headval = Node(\"Mon\")\n",
        "e2 = Node(\"Tue\")\n",
        "e3 = Node(\"Wed\")\n",
        "\n",
        "# Link first Node to second node\n",
        "list.headval.nextval = e2\n",
        "\n",
        "# Link second Node to third node\n",
        "e2.nextval = e3\n",
        "\n",
        "list.listprint()"
      ],
      "metadata": {
        "colab": {
          "base_uri": "https://localhost:8080/"
        },
        "id": "owTapQogmgAs",
        "outputId": "636253ff-7d22-49f8-bfc9-82f1da2f5234"
      },
      "execution_count": 8,
      "outputs": [
        {
          "output_type": "stream",
          "name": "stdout",
          "text": [
            "Mon\n",
            "Tue\n",
            "Wed\n"
          ]
        }
      ]
    },
    {
      "cell_type": "markdown",
      "source": [
        "Insertion in a Linked List\n",
        "\n",
        "Inserting element in the linked list involves reassigning the pointers from the existing nodes to the newly inserted node. "
      ],
      "metadata": {
        "id": "Lx_xpiwdm2qI"
      }
    },
    {
      "cell_type": "markdown",
      "source": [
        "Inserting at the End\n",
        "\n",
        "This involves pointing the next pointer of the the current last node of the linked list to the new data node. So the current last node of the linked list becomes the second last data node and the new node becomes the last node of the linked list."
      ],
      "metadata": {
        "id": "txwEhuYMm-Zq"
      }
    },
    {
      "cell_type": "code",
      "source": [
        "class Node:\n",
        "   def __init__(self, dataval=None):\n",
        "      self.dataval = dataval\n",
        "      self.nextval = None\n",
        "class SLinkedList:\n",
        "   def __init__(self):\n",
        "      self.headval = None\n",
        "# Function to add newnode\n",
        "   def AtEnd(self, newdata):\n",
        "      NewNode = Node(newdata)\n",
        "      if self.headval is None:\n",
        "         self.headval = NewNode\n",
        "         return\n",
        "      laste = self.headval\n",
        "      while(laste.nextval):\n",
        "         laste = laste.nextval\n",
        "      laste.nextval=NewNode\n",
        "# Print the linked list\n",
        "   def listprint(self):\n",
        "      printval = self.headval\n",
        "      while printval is not None:\n",
        "         print (printval.dataval)\n",
        "         printval = printval.nextval\n",
        "\n",
        "list = SLinkedList()\n",
        "list.headval = Node(\"Mon\")\n",
        "e2 = Node(\"Tue\")\n",
        "e3 = Node(\"Wed\")\n",
        "\n",
        "list.headval.nextval = e2\n",
        "e2.nextval = e3\n",
        "\n",
        "list.AtEnd(\"Thu\")\n",
        "\n",
        "list.listprint()"
      ],
      "metadata": {
        "colab": {
          "base_uri": "https://localhost:8080/"
        },
        "id": "ME1B39w9mvG9",
        "outputId": "a82ba58b-25ba-4e69-d9ef-4af42fdb99fe"
      },
      "execution_count": 9,
      "outputs": [
        {
          "output_type": "stream",
          "name": "stdout",
          "text": [
            "Mon\n",
            "Tue\n",
            "Wed\n",
            "Thu\n"
          ]
        }
      ]
    }
  ]
}