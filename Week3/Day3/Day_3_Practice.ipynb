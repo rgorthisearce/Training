{
  "nbformat": 4,
  "nbformat_minor": 0,
  "metadata": {
    "colab": {
      "name": "Day 3 - Practice.ipynb",
      "provenance": [],
      "collapsed_sections": []
    },
    "kernelspec": {
      "name": "python3",
      "display_name": "Python 3"
    },
    "language_info": {
      "name": "python"
    }
  },
  "cells": [
    {
      "cell_type": "markdown",
      "source": [
        "Hash tables are a type of data structure in which the address or the index value of the data element is generated from a hash function. That makes accessing the data faster as the index value behaves as a key for the data value. In other words Hash table stores key-value pairs but the key is generated through a hashing function."
      ],
      "metadata": {
        "id": "rHBvbR6Hd9d0"
      }
    },
    {
      "cell_type": "markdown",
      "source": [
        "So the search and insertion function of a data element becomes much faster as the key values themselves become the index of the array which stores the data."
      ],
      "metadata": {
        "id": "9jXe-Zebd-ZL"
      }
    },
    {
      "cell_type": "markdown",
      "source": [
        "In Python, the Dictionary data types represent the implementation of hash tables."
      ],
      "metadata": {
        "id": "kVuljiFId_4M"
      }
    },
    {
      "cell_type": "code",
      "execution_count": 2,
      "metadata": {
        "id": "rkgnnIyxcyxh",
        "colab": {
          "base_uri": "https://localhost:8080/"
        },
        "outputId": "7c8fdd83-b525-47c6-b91d-82debfe8fc6b"
      },
      "outputs": [
        {
          "output_type": "stream",
          "name": "stdout",
          "text": [
            "dict['Name']:  Zara\n",
            "dict['Age']:  7\n"
          ]
        }
      ],
      "source": [
        "# Declare a dictionary \n",
        "dict = {'Name': 'Zara', 'Age': 7, 'Class': 'First'}\n",
        "\n",
        "# Accessing the dictionary with its key\n",
        "print (\"dict['Name']: \", dict['Name'])\n",
        "print (\"dict['Age']: \", dict['Age'])"
      ]
    },
    {
      "cell_type": "markdown",
      "source": [
        "Updating Dictionary\n",
        "\n",
        "You can update a dictionary by adding a new entry or a key-value pair, modifying an existing entry, or deleting an existing entry"
      ],
      "metadata": {
        "id": "XchA7QhFeuDy"
      }
    },
    {
      "cell_type": "code",
      "source": [
        "# Declare a dictionary\n",
        "dict = {'Name': 'Zara', 'Age': 7, 'Class': 'First'}\n",
        "dict['Age'] = 8; # update existing entry\n",
        "dict['School'] = \"DPS School\"; # Add new entry\n",
        "print (\"dict['Age']: \", dict['Age'])\n",
        "print (\"dict['School']: \", dict['School'])"
      ],
      "metadata": {
        "id": "7JdYGgckeHOt",
        "colab": {
          "base_uri": "https://localhost:8080/"
        },
        "outputId": "30b2e392-1834-4573-87b4-f684731c3236"
      },
      "execution_count": 4,
      "outputs": [
        {
          "output_type": "stream",
          "name": "stdout",
          "text": [
            "dict['Age']:  8\n",
            "dict['School']:  DPS School\n"
          ]
        }
      ]
    },
    {
      "cell_type": "markdown",
      "source": [
        "Heap queue (or heapq) in Python"
      ],
      "metadata": {
        "id": "ppItf6GIfPBR"
      }
    },
    {
      "cell_type": "markdown",
      "source": [
        "Heap data structure is mainly used to represent a priority queue. In Python, it is available using “heapq” module. The property of this data structure in Python is that each time the smallest of heap element is popped(min heap). Whenever elements are pushed or popped, heap structure in maintained. The heap[0] element also returns the smallest element each time."
      ],
      "metadata": {
        "id": "WETIf1BBfVrz"
      }
    },
    {
      "cell_type": "markdown",
      "source": [
        "various Operations on heap :\n",
        "\n",
        "heapify(iterable) :- This function is used to convert the iterable into a heap data structure. i.e. in heap order.\n",
        "\n",
        "heappush(heap, ele) :- This function is used to insert the element mentioned in its arguments into heap. The order is adjusted, so as heap structure is maintained.\n",
        "\n",
        "heappop(heap) :- This function is used to remove and return the smallest element from heap. The order is adjusted, so as heap structure is maintained."
      ],
      "metadata": {
        "id": "prFj-MapfY2N"
      }
    },
    {
      "cell_type": "code",
      "source": [
        "# importing \"heapq\" to implement heap queue\n",
        "import heapq\n",
        "  \n",
        "# initializing list\n",
        "li = [5, 7, 9, 1, 3]\n",
        "  \n",
        "# using heapify to convert list into heap\n",
        "heapq.heapify(li)\n",
        "  \n",
        "# printing created heap\n",
        "print (\"The created heap is : \",end=\"\")\n",
        "print (list(li))\n",
        "  \n",
        "# using heappush() to push elements into heap\n",
        "# pushes 4\n",
        "heapq.heappush(li,4)\n",
        "  \n",
        "# printing modified heap\n",
        "print (\"The modified heap after push is : \",end=\"\")\n",
        "print (list(li))\n",
        "  \n",
        "# using heappop() to pop smallest element\n",
        "print (\"The popped and smallest element is : \",end=\"\")\n",
        "print (heapq.heappop(li))"
      ],
      "metadata": {
        "colab": {
          "base_uri": "https://localhost:8080/"
        },
        "id": "gfeyPD7Oe_3s",
        "outputId": "c49097b9-7857-4fd1-b452-fa508c8915c3"
      },
      "execution_count": 6,
      "outputs": [
        {
          "output_type": "stream",
          "name": "stdout",
          "text": [
            "The created heap is : [1, 3, 9, 7, 5]\n",
            "The modified heap after push is : [1, 3, 4, 7, 5, 9]\n",
            "The popped and smallest element is : 1\n"
          ]
        }
      ]
    },
    {
      "cell_type": "markdown",
      "source": [
        "heappushpop(heap, ele) :- This function combines the functioning of both push and pop operations in one statement, increasing efficiency. Heap order is maintained after this operation.\n",
        "\n",
        "heapreplace(heap, ele) :- This function also inserts and pops element in one statement, but it is different from above function. In this, element is first popped, then the element is pushed.i.e, the value larger than the pushed value can be returned. heapreplace() returns the smallest value originally in heap regardless of the pushed element as opposed to heappushpop()."
      ],
      "metadata": {
        "id": "UgZvPK0Ffj9Z"
      }
    },
    {
      "cell_type": "code",
      "source": [
        "# initializing list 1\n",
        "li1 = [5, 7, 9, 4, 3]\n",
        "  \n",
        "# initializing list 2\n",
        "li2 = [5, 7, 9, 4, 3]\n",
        "  \n",
        "# using heapify() to convert list into heap\n",
        "heapq.heapify(li1)\n",
        "heapq.heapify(li2)\n",
        "\n",
        "# using heappushpop() to push and pop items simultaneously\n",
        "# pops 2\n",
        "print (\"The popped item using heappushpop() is : \",end=\"\")\n",
        "print (heapq.heappushpop(li1, 2))\n",
        "  \n",
        "# using heapreplace() to push and pop items simultaneously\n",
        "# pops 3\n",
        "print (\"The popped item using heapreplace() is : \",end=\"\")\n",
        "print (heapq.heapreplace(li2, 2))"
      ],
      "metadata": {
        "colab": {
          "base_uri": "https://localhost:8080/"
        },
        "id": "MUGz1gbBfg_x",
        "outputId": "7f2b875a-28ed-464b-c41e-e6d507d985c0"
      },
      "execution_count": 8,
      "outputs": [
        {
          "output_type": "stream",
          "name": "stdout",
          "text": [
            "The popped item using heappushpop() is : 2\n",
            "The popped item using heapreplace() is : 3\n"
          ]
        }
      ]
    },
    {
      "cell_type": "code",
      "source": [
        ""
      ],
      "metadata": {
        "id": "rBcNOGQbfrDq"
      },
      "execution_count": null,
      "outputs": []
    }
  ]
}