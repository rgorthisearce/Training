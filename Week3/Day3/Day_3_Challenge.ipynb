{
  "nbformat": 4,
  "nbformat_minor": 0,
  "metadata": {
    "colab": {
      "name": "Day 3- Challenge.ipynb",
      "provenance": []
    },
    "kernelspec": {
      "name": "python3",
      "display_name": "Python 3"
    },
    "language_info": {
      "name": "python"
    }
  },
  "cells": [
    {
      "cell_type": "markdown",
      "source": [
        "Ramu owns a Pan shop and he manages it in his own way. While in a normal shop, a customer is served by following the first-come, first-served rule, Ramu simply minimizes the average waiting time of his customers. So he gets to decide who is served first, regardless of how sooner or later a person comes.\n",
        "\n",
        "Different kinds of Pans take different amounts of time to cook. Also, once he starts cooking a Pan, he cannot cook another Pan until the first Pan is completely cooked. Let's say we have three customers who come at time t=0, t=1, & t=2 respectively, and the time needed to cook their Pans is 3, 9, & 6 respectively. If Ramu applies first-come, first-served rule, then the waiting time of three customers is 3, 11, & 16 respectively. The average waiting time in this case is (3 + 11 + 16) / 3 = 10. This is not an optimized solution. After serving the first customer at time t=3, Ramu can choose to serve the third customer. In that case, the waiting time will be 3, 7, & 17 respectively. Hence the average waiting time is (3 + 7 + 17) / 3 = 9.\n",
        "\n",
        "Help Ramu achieve the minimum average waiting time. For the sake of simplicity, just find the integer part of the minimum average waiting time.\n"
      ],
      "metadata": {
        "id": "7q0-kCv1_vRe"
      }
    },
    {
      "cell_type": "code",
      "execution_count": null,
      "metadata": {
        "id": "V8XuFkMa9-22"
      },
      "outputs": [],
      "source": [
        "import heapq\n",
        "\n",
        "def minWait(allOrders):\n",
        "  totalWaitTime = 0\n",
        "  numOrders = len(allOrders)\n",
        "  if numOrders == 0:\n",
        "    return 0\n",
        "  pendingOrders = []\n",
        "  currentTime = allOrders[0][0]\n",
        "  loop = True\n",
        "  while loop:\n",
        "    while len(allOrders) != 0 and allOrders[0][0] <= currentTime:\n",
        "      order = heapq.heappop(allOrders)\n",
        "      heapq.heappush(pendingOrders, (order[1], order[0]))\n",
        "    if len(pendingOrders) != 0:\n",
        "      minWaitOrder = heapq.heappop(pendingOrders)\n",
        "      waitTime = currentTime - minWaitOrder[1] + minWaitOrder[0]\n",
        "      totalWaitTime += waitTime\n",
        "      currentTime += minWaitOrder[0]\n",
        "    else:\n",
        "      currentTime += 1\n",
        "    if len(pendingOrders) == 0 and len(allOrders) == 0:\n",
        "      loop = False\n",
        "  return totalWaitTime/numOrders"
      ]
    },
    {
      "cell_type": "code",
      "source": [
        "print(\"Enter the number of orders\")\n",
        "n = int(input())\n",
        "allOrders = []\n",
        "for i in range(n):\n",
        "  print(\"Enter the customer number and the time needed to make the pan\")\n",
        "  line = input().split()\n",
        "  l, t = int(line[0]), int(line[1])\n",
        "  heapq.heappush(allOrders, (l,t))\n",
        "\n",
        "print(\"The minimum average wait time for all the customers is: \")\n",
        "print(int(minWait(allOrders)))"
      ],
      "metadata": {
        "colab": {
          "base_uri": "https://localhost:8080/"
        },
        "id": "7JzXocYXNRRN",
        "outputId": "4539ff36-ab09-4715-d27a-8c925f2c2d11"
      },
      "execution_count": 6,
      "outputs": [
        {
          "output_type": "stream",
          "name": "stdout",
          "text": [
            "Enter the number of orders\n",
            "3\n",
            "Enter the customer number and the time needed to make the pan\n",
            "0 3\n",
            "Enter the customer number and the time needed to make the pan\n",
            "1 9\n",
            "Enter the customer number and the time needed to make the pan\n",
            "2 6\n",
            "The minimum average wait time for all the customers is: \n",
            "9\n"
          ]
        }
      ]
    },
    {
      "cell_type": "code",
      "source": [
        ""
      ],
      "metadata": {
        "id": "AqCFJeLpN0UB"
      },
      "execution_count": null,
      "outputs": []
    }
  ]
}