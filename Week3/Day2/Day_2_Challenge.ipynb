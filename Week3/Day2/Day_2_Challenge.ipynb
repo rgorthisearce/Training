{
  "nbformat": 4,
  "nbformat_minor": 0,
  "metadata": {
    "colab": {
      "name": "Day 2- Challenge.ipynb",
      "provenance": []
    },
    "kernelspec": {
      "name": "python3",
      "display_name": "Python 3"
    },
    "language_info": {
      "name": "python"
    }
  },
  "cells": [
    {
      "cell_type": "markdown",
      "source": [
        "You have an empty sequence, and you will be given\n",
        "queries. Each query is one of these three types:\n",
        "\n",
        "1 x  -Push the element x into the stack.\n",
        "\n",
        "2    -Delete the element present at the top of the stack.\n",
        "\n",
        "3    -Print the maximum element in the stack."
      ],
      "metadata": {
        "id": "dHGWpFWeEt_0"
      }
    },
    {
      "cell_type": "code",
      "execution_count": 4,
      "metadata": {
        "colab": {
          "base_uri": "https://localhost:8080/"
        },
        "id": "mZekMW0fEqWx",
        "outputId": "e29b51e0-bf09-4a0c-88f4-c1f286e68608"
      },
      "outputs": [
        {
          "output_type": "stream",
          "name": "stdout",
          "text": [
            "Enter the number of operations: \n",
            "10\n",
            "Enter the query: \n",
            "1 97\n",
            "Pushed the element  97  into the stack.\n",
            "Enter the query: \n",
            "2\n",
            "Popped the topmost element  97  from the stack\n",
            "Enter the query: \n",
            "1 20\n",
            "Pushed the element  20  into the stack.\n",
            "Enter the query: \n",
            "2\n",
            "Popped the topmost element  20  from the stack\n",
            "Enter the query: \n",
            "1 26\n",
            "Pushed the element  26  into the stack.\n",
            "Enter the query: \n",
            "1 20\n",
            "Pushed the element  20  into the stack.\n",
            "Enter the query: \n",
            "2\n",
            "Popped the topmost element  20  from the stack\n",
            "Enter the query: \n",
            "3\n",
            "The max value in the stack is:  26\n",
            "Enter the query: \n",
            "1 91\n",
            "Pushed the element  91  into the stack.\n",
            "Enter the query: \n",
            "3\n",
            "The max value in the stack is:  91\n"
          ]
        }
      ],
      "source": [
        "print(\"Enter the number of operations: \")\n",
        "n = int(input())\n",
        "stack = []\n",
        "most = []\n",
        "\n",
        "for i in range(n):\n",
        "  print(\"Enter the query: \")\n",
        "  \n",
        "  data = input().split()\n",
        "  x = int(data[0])\n",
        "  v = 0\n",
        "\n",
        "  if len(data) > 1:\n",
        "    v = int(data[1])\n",
        "  \n",
        "  if x == 1:\n",
        "    stack.append(v)\n",
        "    print(\"Pushed the element \", v, \" into the stack.\")\n",
        "    if (not most) or (most[-1]) <= v:\n",
        "        most.append(v)\n",
        "  \n",
        "  elif x == 2:\n",
        "    v = stack.pop()\n",
        "    print(\"Popped the topmost element \", v, \" from the stack\")\n",
        "    if most[-1] == v:\n",
        "      most.pop()\n",
        "  \n",
        "  else:\n",
        "    print(\"The max value in the stack is: \", most[-1])"
      ]
    },
    {
      "cell_type": "code",
      "source": [
        ""
      ],
      "metadata": {
        "id": "Q9-r26m6ICE-"
      },
      "execution_count": null,
      "outputs": []
    }
  ]
}