{
  "nbformat": 4,
  "nbformat_minor": 0,
  "metadata": {
    "colab": {
      "name": "Day 2 - Practice.ipynb",
      "provenance": []
    },
    "kernelspec": {
      "name": "python3",
      "display_name": "Python 3"
    },
    "language_info": {
      "name": "python"
    }
  },
  "cells": [
    {
      "cell_type": "markdown",
      "source": [
        "**Stacks and Queues using Lists**\n",
        "\n",
        "Python's built-in List data structure comes bundled with methods to simulate both stack and queue operations."
      ],
      "metadata": {
        "id": "ZiorAeU8UU5V"
      }
    },
    {
      "cell_type": "markdown",
      "source": [
        "Let's consider a stack of letters:"
      ],
      "metadata": {
        "id": "Zq1CXGuAUcNy"
      }
    },
    {
      "cell_type": "code",
      "execution_count": 1,
      "metadata": {
        "colab": {
          "base_uri": "https://localhost:8080/"
        },
        "id": "1yGtIHRrSh_z",
        "outputId": "d8f039cb-a9f4-4ef1-9f18-d4c6ec6e3476"
      },
      "outputs": [
        {
          "output_type": "stream",
          "name": "stdout",
          "text": [
            "g\n",
            "t\n",
            "['c', 'a']\n"
          ]
        }
      ],
      "source": [
        "letters = []\n",
        "\n",
        "# Let's push some letters into our list\n",
        "letters.append('c')\n",
        "letters.append('a')\n",
        "letters.append('t')\n",
        "letters.append('g')\n",
        "\n",
        "# Now let's pop letters, we should get 'g'\n",
        "last_item = letters.pop()\n",
        "print(last_item)\n",
        "\n",
        "# If we pop again we'll get 't'\n",
        "last_item = letters.pop()\n",
        "print(last_item)\n",
        "\n",
        "# 'c' and 'a' remain\n",
        "print(letters) # ['c', 'a']"
      ]
    },
    {
      "cell_type": "markdown",
      "source": [
        "We can use the same functions to implement a Queue. The pop function optionally takes the index of the item we want to retrieve as an argument.\n",
        "\n",
        "So we can use pop with the first index of the list i.e. 0, to get queue-like behavior.\n",
        "\n",
        "Consider a \"queue\" of fruits:"
      ],
      "metadata": {
        "id": "XD_KzR-6WiOa"
      }
    },
    {
      "cell_type": "code",
      "source": [
        "fruits = []\n",
        "\n",
        "# Let's enqueue some fruits into our list\n",
        "fruits.append('banana')\n",
        "fruits.append('grapes')\n",
        "fruits.append('mango')\n",
        "fruits.append('orange')\n",
        "\n",
        "# Now let's dequeue our fruits, we should get 'banana'\n",
        "first_item = fruits.pop(0)\n",
        "print(first_item)\n",
        "\n",
        "# If we dequeue again we'll get 'grapes'\n",
        "first_item = fruits.pop(0)\n",
        "print(first_item)\n",
        "\n",
        "# 'mango' and 'orange' remain\n",
        "print(fruits) # ['c', 'a']"
      ],
      "metadata": {
        "colab": {
          "base_uri": "https://localhost:8080/"
        },
        "id": "R-niWWUrUeV5",
        "outputId": "78c5c9c5-03ae-4b22-fa88-f27529416cf1"
      },
      "execution_count": 2,
      "outputs": [
        {
          "output_type": "stream",
          "name": "stdout",
          "text": [
            "banana\n",
            "grapes\n",
            "['mango', 'orange']\n"
          ]
        }
      ]
    },
    {
      "cell_type": "markdown",
      "source": [
        "Again, here we use the append and pop operations of the list to simulate the core operations of a queue."
      ],
      "metadata": {
        "id": "bzYrFY5WW9mB"
      }
    },
    {
      "cell_type": "code",
      "source": [
        ""
      ],
      "metadata": {
        "id": "BZqh8Dh2WlLm"
      },
      "execution_count": null,
      "outputs": []
    }
  ]
}